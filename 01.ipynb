{
  "nbformat": 4,
  "nbformat_minor": 0,
  "metadata": {
    "colab": {
      "provenance": [],
      "authorship_tag": "ABX9TyO3Ubk/8vZAH+IO3WLgvD5o",
      "include_colab_link": true
    },
    "kernelspec": {
      "name": "python3",
      "display_name": "Python 3"
    },
    "language_info": {
      "name": "python"
    }
  },
  "cells": [
    {
      "cell_type": "markdown",
      "metadata": {
        "id": "view-in-github",
        "colab_type": "text"
      },
      "source": [
        "<a href=\"https://colab.research.google.com/github/Lucasbarbs/Aula-01/blob/main/01.ipynb\" target=\"_parent\"><img src=\"https://colab.research.google.com/assets/colab-badge.svg\" alt=\"Open In Colab\"/></a>"
      ]
    },
    {
      "cell_type": "code",
      "execution_count": 2,
      "metadata": {
        "id": "yrvSqnFECO4o"
      },
      "outputs": [],
      "source": [
        "#listas de alunos\n",
        "alunos = ['Dyana', 'Jorge', 'Igor', 'Eduardo', 'Laura']"
      ]
    },
    {
      "cell_type": "code",
      "source": [
        "#alterar o valores de ítens de lista\n",
        "alunos[3] = 'Ivan'"
      ],
      "metadata": {
        "id": "amDPw88TEP2L"
      },
      "execution_count": 3,
      "outputs": []
    },
    {
      "cell_type": "code",
      "source": [
        "#inserir valores na lista .append()\n",
        "alunos.append('Alex')\n",
        "alunos"
      ],
      "metadata": {
        "colab": {
          "base_uri": "https://localhost:8080/"
        },
        "id": "rMMIcVCOEztb",
        "outputId": "4786a16d-c86c-482e-9f24-917f9ba74a64"
      },
      "execution_count": 4,
      "outputs": [
        {
          "output_type": "execute_result",
          "data": {
            "text/plain": [
              "['Dyana', 'Jorge', 'Igor', 'Ivan', 'Laura', 'Alex']"
            ]
          },
          "metadata": {},
          "execution_count": 4
        }
      ]
    },
    {
      "cell_type": "code",
      "source": [
        "alunos.append(input('Digite o nome'))\n"
      ],
      "metadata": {
        "id": "Mx8M8qQhGbma"
      },
      "execution_count": null,
      "outputs": []
    },
    {
      "cell_type": "code",
      "source": [
        "#Descobrir se há um valor determinado na lista, exibir sua posição\n",
        "if 'Luiz'in alunos:\n",
        "  print('Tem Luiz SIIM')\n",
        "   print(alunos.index('Luiz'))\n",
        "\n"
      ],
      "metadata": {
        "id": "jVBGRtWsPKB1"
      },
      "execution_count": null,
      "outputs": []
    },
    {
      "cell_type": "code",
      "source": [
        "nome = input('Digite o nome: ')\n",
        "if nome in aluno:\n",
        "  print('Tem', nome)\n",
        "else:\n",
        "    print('Não tem', nome)"
      ],
      "metadata": {
        "id": "9Dvy7fEgQjVI"
      },
      "execution_count": null,
      "outputs": []
    },
    {
      "cell_type": "code",
      "source": [
        "#deletar"
      ],
      "metadata": {
        "id": "fjUX2M4vSEk7"
      },
      "execution_count": null,
      "outputs": []
    },
    {
      "cell_type": "code",
      "source": [
        "#Criar uma lista com números de 1 a 15\n",
        "numeros = []\n",
        "for numa in range(15):\n",
        "   numeros.append(num)"
      ],
      "metadata": {
        "id": "sWszJohYTyAV"
      },
      "execution_count": null,
      "outputs": []
    },
    {
      "cell_type": "code",
      "source": [
        "dobro = []\n",
        "for num in numeros:\n",
        "  dobro.append(numeros[0]*2)\n",
        "  dobro\n"
      ],
      "metadata": {
        "id": "isXnnvQPVLdT"
      },
      "execution_count": 9,
      "outputs": []
    },
    {
      "cell_type": "code",
      "source": [
        "#Descobrir se um número é par\n",
        "a = 8 \n",
        "if a%2 == 0:\n",
        "  print('É par')\n",
        "else:\n",
        "    print('É impar')\n",
        "\n"
      ],
      "metadata": {
        "colab": {
          "base_uri": "https://localhost:8080/"
        },
        "id": "goGHKDaDW-G-",
        "outputId": "3cc345ba-fbd7-4be0-84ea-35c939d4f4b6"
      },
      "execution_count": 12,
      "outputs": [
        {
          "output_type": "stream",
          "name": "stdout",
          "text": [
            "É par\n"
          ]
        }
      ]
    },
    {
      "cell_type": "code",
      "source": [
        "for num in numeros:\n",
        "  if numeros[num]%2 == 0:\n",
        "    print(numeros[num])"
      ],
      "metadata": {
        "id": "2dJ7Wh1hZPLc"
      },
      "execution_count": 19,
      "outputs": []
    }
  ]
}